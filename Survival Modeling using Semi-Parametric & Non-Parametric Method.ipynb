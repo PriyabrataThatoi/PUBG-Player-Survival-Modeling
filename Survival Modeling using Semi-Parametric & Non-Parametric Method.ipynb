{
 "cells": [
  {
   "cell_type": "markdown",
   "metadata": {},
   "source": [
    "## PUBG Match Statistics\n",
    "PUBG is a first/third-person shooter battle royale style game that matches over 90 players on a large island where teams and players fight to the death until one remains. Players are airdropped from an airplane onto the island where they are to scavenge towns and buildings for weapons, ammo, armor and first-aid. Players will then decide to either fight or hide with the ultimate goal of being the last one standing. A bluezone (see below) will appear a few minutes into the game to corral players closer and closer together by dealing damage to anyone that stands within the bluezone and sparing whoever is within the safe zone.\n",
    "\n",
    "![eq7](https://user-images.githubusercontent.com/54467567/66076454-73260b80-e523-11e9-8c56-846b284029af.PNG)\n"
   ]
  },
  {
   "cell_type": "markdown",
   "metadata": {},
   "source": [
    "### Libraries"
   ]
  },
  {
   "cell_type": "code",
   "execution_count": 13,
   "metadata": {},
   "outputs": [],
   "source": [
    "import os as osvariable\n",
    "import pandas as pd\n",
    "import numpy as np\n",
    "from scipy.stats import norm\n",
    "import statsmodels.api as st\n",
    "import statsmodels.formula.api as smf\n",
    "from lifelines import KaplanMeierFitter\n",
    "from lifelines.statistics import multivariate_logrank_test   \n",
    "from lifelines.statistics import logrank_test\n",
    "from lifelines import CoxPHFitter\n",
    "from lifelines.statistics import proportional_hazard_test\n",
    "from sklearn.model_selection import train_test_split\n",
    "from statsmodels.base.model import GenericLikelihoodModel\n",
    "from scipy.special import gamma as gammafunction\n",
    "from scipy.special import gammainc\n",
    "from scipy.special import psi\n",
    "import mpmath\n",
    "from sympy import DiracDelta\n",
    "import matplotlib.pyplot as plt\n",
    "import warnings\n",
    "warnings.filterwarnings(\"ignore\")\n",
    "os.chdir(r\"C:\\Users\\priyabrata.thatoi\\Downloads\\agg_match_stats_0.csv\")"
   ]
  },
  {
   "cell_type": "markdown",
   "metadata": {},
   "source": [
    "### Structuring the dataset"
   ]
  },
  {
   "cell_type": "code",
   "execution_count": 14,
   "metadata": {},
   "outputs": [
    {
     "name": "stdout",
     "output_type": "stream",
     "text": [
      "(13849287, 15)\n",
      "4269507\n"
     ]
    }
   ],
   "source": [
    "# read the pubg dataset\n",
    "df=pd.read_csv('agg_match_stats_0.csv')\n",
    "\n",
    "#check the shape of the dataset\n",
    "print(df.shape)\n",
    "\n",
    "#check the number of unique players\n",
    "print(df['player_name'].nunique())"
   ]
  },
  {
   "cell_type": "code",
   "execution_count": 151,
   "metadata": {},
   "outputs": [
    {
     "name": "stdout",
     "output_type": "stream",
     "text": [
      "Shape of the survival dataset  (4269508, 15)\n",
      "date                    object\n",
      "game_size                int64\n",
      "match_id                object\n",
      "match_mode              object\n",
      "party_size               int64\n",
      "player_assists           int64\n",
      "player_dbno              int64\n",
      "player_dist_ride       float64\n",
      "player_dist_walk       float64\n",
      "player_dmg               int64\n",
      "player_kills             int64\n",
      "player_name             object\n",
      "player_survive_time    float64\n",
      "team_id                  int64\n",
      "team_placement           int64\n",
      "dtype: object\n"
     ]
    }
   ],
   "source": [
    "#create a dataset with unique players for survival analysis\n",
    "survival_data=df.drop_duplicates(subset='player_name', keep='first', inplace=False)\n",
    "print('Shape of the survival dataset ',survival_data.shape)\n",
    "print(survival_data.dtypes)"
   ]
  },
  {
   "cell_type": "markdown",
   "metadata": {},
   "source": [
    "### Analyzing the dataset"
   ]
  },
  {
   "cell_type": "code",
   "execution_count": 152,
   "metadata": {},
   "outputs": [
    {
     "name": "stdout",
     "output_type": "stream",
     "text": [
      "date                   0\n",
      "game_size              0\n",
      "match_id               0\n",
      "match_mode             0\n",
      "party_size             0\n",
      "player_assists         0\n",
      "player_dbno            0\n",
      "player_dist_ride       0\n",
      "player_dist_walk       0\n",
      "player_dmg             0\n",
      "player_kills           0\n",
      "player_name            1\n",
      "player_survive_time    0\n",
      "team_id                0\n",
      "team_placement         0\n",
      "dtype: int64\n",
      "(4269507, 15)\n",
      "shape of the dataset after dropping the null row  (4269507, 10)\n"
     ]
    }
   ],
   "source": [
    "# finding the number of nulls\n",
    "print(survival_data.isnull().sum())\n",
    "\n",
    "#remove the row with null value\n",
    "survival_data.dropna(axis=0,inplace=True)\n",
    "print(survival_data.shape)\n",
    "\n",
    "# removing unwanted variables\n",
    "del_cols = ['date','match_id','team_id','team_placement','match_mode']\n",
    "survival_data.drop(del_cols,axis=1,inplace=True)\n",
    "print('shape of the dataset after dropping the null row ',survival_data.shape)"
   ]
  },
  {
   "cell_type": "code",
   "execution_count": 154,
   "metadata": {
    "scrolled": false
   },
   "outputs": [
    {
     "data": {
      "text/plain": [
       "{'whiskers': [<matplotlib.lines.Line2D at 0xcaf60278>,\n",
       "  <matplotlib.lines.Line2D at 0xcaf60ef0>],\n",
       " 'caps': [<matplotlib.lines.Line2D at 0xcaf82438>,\n",
       "  <matplotlib.lines.Line2D at 0xcaf82e10>],\n",
       " 'boxes': [<matplotlib.lines.Line2D at 0xcaf60358>],\n",
       " 'medians': [<matplotlib.lines.Line2D at 0xcaf82b38>],\n",
       " 'fliers': [<matplotlib.lines.Line2D at 0xcaf82588>],\n",
       " 'means': []}"
      ]
     },
     "execution_count": 154,
     "metadata": {},
     "output_type": "execute_result"
    },
    {
     "data": {
      "image/png": "[encoded data removed]",
      "text/plain": [
       "<Figure size 432x288 with 1 Axes>"
      ]
     },
     "metadata": {
      "needs_background": "light"
     },
     "output_type": "display_data"
    }
   ],
   "source": [
    "# convert survive time from seconds to minutes\n",
    "survival_data['player_survive_time'] = round(survival_data['player_survive_time']/60,2)\n",
    "\n",
    "# Removing outliers from the dataset for any\n",
    "# variables based on the value of the \n",
    "# on the range of IQR\n",
    "Q1 = survival_data.quantile(0.25)\n",
    "Q3 = survival_data.quantile(0.75)\n",
    "IQR = Q3 - Q1\n",
    "survival_data = survival_data[~((survival_data < (Q1 - 1.5 * IQR)) |(survival_data > (Q3 + 1.5 * IQR))).any(axis=1)]\n",
    "\n",
    "#plotting the final boxplot for player survive time\n",
    "plt.boxplot(survival_data.player_survive_time)"
   ]
  },
  {
   "cell_type": "markdown",
   "metadata": {},
   "source": [
    "### Features "
   ]
  },
  {
   "cell_type": "code",
   "execution_count": 158,
   "metadata": {},
   "outputs": [
    {
     "name": "stdout",
     "output_type": "stream",
     "text": [
      "0    0.706092\n",
      "1    0.238737\n",
      "2    0.055171\n",
      "Name: player_dbno, dtype: float64\n",
      "0    0.747322\n",
      "1    0.252678\n",
      "Name: player_dbno, dtype: float64\n"
     ]
    }
   ],
   "source": [
    "# Party size (1,2 & 4)\n",
    "# Party size 1 -- > solo\n",
    "# Party size 2 -- > duo \n",
    "# Party size 4 -- > Squad\n",
    "#survival_data['party_size_label']=np.nan\n",
    "#survival_data['party_size_label'][survival_data['party_size']==1]='solo'\n",
    "#survival_data['party_size_label'][survival_data['party_size']==2]='duo'\n",
    "#survival_data['party_size_label'][survival_data['party_size']==4]='squad'\n",
    "\n",
    "# game size ( < 33) -- > small\n",
    "# game size (33, 66) --> medium\n",
    "# game size (>66) --> big\n",
    "#survival_data['game_size'] = survival_data['game_size'].astype('str')\n",
    "#survival_data['game_size'][(survival_data['game_size'] < '33')]='small'\n",
    "#survival_data['game_size'][(survival_data['game_size'] >= '33') & (survival_data['game_size'] < '66')]='medium'\n",
    "#survival_data['game_size'][survival_data['game_size'] >='66']='big'\n",
    "\n",
    "#survival_data.head()\n",
    "print(survival_data['player_dbno'].value_counts(normalize=True))\n",
    "\n",
    "#Removing player_dbno ==2\n",
    "survival_data=survival_data[survival_data['player_dbno'] != 2]\n",
    "\n",
    "print(survival_data['player_dbno'].value_counts(normalize=True))"
   ]
  },
  {
   "cell_type": "markdown",
   "metadata": {},
   "source": [
    "# Survival Analysis "
   ]
  },
  {
   "cell_type": "markdown",
   "metadata": {},
   "source": [
    "<p style='text-align: justify;'> The objective in survival analysis (also referred to as reliability analysis in engineering) is to establish a connection between covariates and the time of an event. What makes survival analysis differ from traditional machine learning is the fact that parts of the training data can only be partially observed – they are censored. For instance, in a clinical study, patients are often monitored for a particular time period, and events occurring in this particular period are recorded. If a patient experiences an event, the exact time of the event can be recorded – the patient’s record is uncensored. In contrast, right censored records refer to patients that remained event-free during the study period and it is unknown whether an event has or has not occurred after the study ended. Consequently, survival analysis demands for models that take this unique characteristic of such a dataset into account.</p>\n",
    "\n",
    "T is the time from customer's service subscription to the customer churn and it is a discrete & non-negative variable.\n",
    "\n",
    "1. probability distribution function f(t) where f(t) : [ { s(t) - s(t+dt) } /dt ] \n",
    "2. cumulative distribution function F(t)  where F(t) : ∫f(x)dx\n",
    "\n",
    "#### Survival Function\n",
    "It defines the probability that the event of interest has not occurred at time t. It can also be interpreted as the probability of survival after time t. Here, T is the random lifetime taken from the population and it cannot be negative. Note that S(t) is between zero and one (inclusive), and S(t) is a non-increasing function of t\n",
    "\n",
    "\\begin{align*}\n",
    "s(t) = 1-F(t)\n",
    "\\end{align*}\n",
    "\n",
    "\n",
    "#### Hazard Function\n",
    "<p style='text-align: justify;'> It also called the intensity function, is defined as the probability that the subject will experience an event of interest within a small time interval, provided that the individual has survived until the beginning of that interval. It is the instantaneous rate calculated over a time period and this rate is considered constant . It can also be considered as the risk of experiencing the event of interest at time t. It is the number of subjects experiencing an event in the interval beginning at time t divided by the product of the number of subjects surviving at time t and interval width </p>\n",
    "\n",
    "\\begin{align*}\n",
    " h(t) = [ ( s(t) - s(t+dt) ) /dt ] / S(t)\n",
    "\\end{align*}\n",
    "\n",
    "\\begin{align*}\n",
    " h(t) = f(t) / S(t)\n",
    "\\end{align*}\n",
    "\n",
    "### Kaplan - Meier (Non-Parametric Method)\n",
    "\n",
    "\n",
    "<p style='text-align: justify;'>As the actual survival function cannot be observed, it is approximated by the Kaplan-Meier (KM) estimator, which essentially calculates the proportion of at-risk subjects that has not yet \"succumbed\" (to death, malfunction, etc) out of all at-risk subjects present at each time t: </p>\n",
    "\n",
    "![eq1](https://user-images.githubusercontent.com/54467567/66076093-a74cfc80-e522-11e9-9caf-6c1faf1afbc5.PNG)\n",
    "\n",
    "<p style='text-align: justify;'> S(t) is the probability of survival with respect to time t, di is the number of clients who have churned at time t, ni is the number of the clients at risk of experiencing churning at time t. This method doesn't use any parameters rather depends only on time and censoring </p>"
   ]
  },
  {
   "cell_type": "code",
   "execution_count": 159,
   "metadata": {
    "scrolled": true
   },
   "outputs": [],
   "source": [
    "#Dataset contain 4 continuous variables, 4 categorical variables\n",
    "#and 1 ID variables(player name). Churn is the target variales \n",
    "#containing 0 as right censored data and 1 as\n",
    "#churned data (observed the event)\n",
    "\n",
    "#Add constant to the data\n",
    "#Prepend=False to keep it a dataframe\n",
    "survival_data=st.add_constant(survival_data,prepend=False)\n",
    "\n",
    "#Create the event variables. 'Churn' equals 1 if client has\n",
    "#churned and 'Churn' equals 0 if the client hasn't ended \n",
    "#within the observation period\n",
    "eventvar=survival_data['player_dbno']\n",
    "\n",
    "#Create the time variables. 'Active_Duration_Months' contains\n",
    "#tenure of clients in months. it is the difference b/w\n",
    "#active start date and inactive end date in the data\n",
    "eventtime=survival_data['player_survive_time']"
   ]
  },
  {
   "cell_type": "code",
   "execution_count": 160,
   "metadata": {
    "scrolled": false
   },
   "outputs": [
    {
     "name": "stdout",
     "output_type": "stream",
     "text": [
      "<lifelines.KaplanMeierFitter: fitted with 2.2662e+06 total observations, 1.69358e+06 right-censored observations>\n"
     ]
    },
    {
     "data": {
      "text/plain": [
       "Text(0.5, 1.0, 'Kaplan-Meier Curve')"
      ]
     },
     "execution_count": 160,
     "metadata": {},
     "output_type": "execute_result"
    },
    {
     "data": {
      "image/png": "[encoded data removed]",
      "text/plain": [
       "<Figure size 1080x432 with 1 Axes>"
      ]
     },
     "metadata": {
      "needs_background": "light"
     },
     "output_type": "display_data"
    }
   ],
   "source": [
    "#Create a KaplanMeier object, imported from lifelines\n",
    "kmf = KaplanMeierFitter()\n",
    "\n",
    "#Calculate KM Curve for all the group\n",
    "kmf.fit(eventtime,event_observed=eventvar,label='All Players')\n",
    "print(kmf)\n",
    "#Plot the curve and assign label\n",
    "kmf.plot(figsize=(15,6),color='red',marker=\"1\")\n",
    "plt.ylabel('Survival Probability ')\n",
    "plt.xlabel('Playing Time [minutes]')\n",
    "plt.title('Kaplan-Meier Curve')"
   ]
  },
  {
   "cell_type": "markdown",
   "metadata": {},
   "source": [
    "This curve represents all the players associated in the dataset and that have a valid survival time.From the above Kaplan-Meier Curve it is evident that most of the players don't survive after 35 minutes of the game play where as about 50 % of the Players died within the first 25 minutes of the game\n",
    "\n",
    "###### 1. Probability of surviving more than 25 mins is 50%\n",
    "###### 2. Probability of surviving more than 10 mins is 80 %"
   ]
  },
  {
   "cell_type": "markdown",
   "metadata": {},
   "source": [
    "### Log Rank Test\n",
    "\n",
    "Log rank test evaluates the survival rate within each group. under the null hypothesis, the probability of event across each groups is the same for all the time periods . Log rank calculates the difference between the observed number of events and expected number of events to the size of each group at each time period. it follows the chi-sqaure distribition and is calulated as follows :\n",
    "\n",
    "![eq2](https://user-images.githubusercontent.com/54467567/66076094-a74cfc80-e522-11e9-8b73-7254833c99d2.PNG)"
   ]
  },
  {
   "cell_type": "code",
   "execution_count": 164,
   "metadata": {
    "scrolled": false
   },
   "outputs": [
    {
     "data": {
      "text/plain": [
       "Text(0, 0.5, 'Probability of Survival')"
      ]
     },
     "execution_count": 164,
     "metadata": {},
     "output_type": "execute_result"
    },
    {
     "data": {
      "image/png": "[encoded data removed]",
      "text/plain": [
       "<Figure size 1080x432 with 1 Axes>"
      ]
     },
     "metadata": {
      "needs_background": "light"
     },
     "output_type": "display_data"
    }
   ],
   "source": [
    "# Analyzing Survival probability for different player size : Solo | Duo | Squad\n",
    "\n",
    "#create group specific eventvar and timevar\n",
    "eventvar1=survival_data['player_dbno'][survival_data['party_size']==1]\n",
    "eventtime1=survival_data['player_survive_time'][survival_data['party_size']==1]\n",
    "eventvar2=survival_data['player_dbno'][survival_data['party_size']==2]\n",
    "eventtime2=survival_data['player_survive_time'][survival_data['party_size']==2]\n",
    "eventvar4=survival_data['player_dbno'][survival_data['party_size']==4]\n",
    "eventtime4=survival_data['player_survive_time'][survival_data['party_size']==4]\n",
    "\n",
    "\n",
    "#start a new plot\n",
    "plt.figure(figsize=(15,6))\n",
    "ax=plt.subplot(1,1,1)\n",
    "#Fit the K-M curve to observations for which Zone=South\n",
    "kmf.fit(eventtime1,eventvar1,label='Solo game')\n",
    "plot1=kmf.plot(ax=ax)\n",
    "#Fit the K-M curve to observations for which Zone = Midwest\n",
    "kmf.fit(eventtime2,eventvar2,label='Duo game')\n",
    "plot2=kmf.plot(ax=plot1)\n",
    "#Fit the K-M curve to observations for which Zone = North-East\n",
    "kmf.fit(eventtime4,eventvar4,label='Squad game')\n",
    "plot3=kmf.plot(ax=plot2)\n",
    "\n",
    "plt.title('Probability of survival for different game size')\n",
    "plt.xlabel('minutes since start')\n",
    "plt.ylabel('Probability of Survival')"
   ]
  },
  {
   "cell_type": "markdown",
   "metadata": {},
   "source": [
    "Survivality of the solo players are very high as compared to survivality of the duo and squad players. Howcver, between Duo and Squad players, Squad players have high probability of surviving which is obvious as multiple players are involved in the game to protect each others which is lacking in the case of the Duo. In case of the Solo, players has to make his own call and don't have rely on any other players that gives him more survival opportunity and hence is the fittest surviving player in the game . To further test the hypothesis if different groups have different survival probability, log rank test is conducted as below"
   ]
  },
  {
   "cell_type": "code",
   "execution_count": 168,
   "metadata": {},
   "outputs": [
    {
     "name": "stdout",
     "output_type": "stream",
     "text": [
      "<lifelines.StatisticalResult>\n",
      "               t_0 = -1\n",
      " null_distribution = chi squared\n",
      "degrees_of_freedom = 2\n",
      "             alpha = 0.95\n",
      "\n",
      "---\n",
      " test_statistic      p  -log2(p)\n",
      "       22529.27 <0.005       inf\n"
     ]
    }
   ],
   "source": [
    "#log rank test for more than 2 groups to check\n",
    "#if the survival rates are same for each group\n",
    "twoplusgroups_logrank = multivariate_logrank_test(survival_data['player_survive_time'],\n",
    "                                                  survival_data['party_size'],\n",
    "                                                  survival_data['player_dbno'],\n",
    "                                                  alpha = 0.95)\n",
    "#\n",
    "twoplusgroups_logrank.print_summary()\n",
    "\n",
    "# Survival probability is different for different party size ( solo | duo | squad )\n",
    "# as p value is  < 0.05 and that rejects the null hypothesis"
   ]
  },
  {
   "cell_type": "code",
   "execution_count": 169,
   "metadata": {},
   "outputs": [
    {
     "data": {
      "text/html": [
       "<div>\n",
       "<style scoped>\n",
       "    .dataframe tbody tr th:only-of-type {\n",
       "        vertical-align: middle;\n",
       "    }\n",
       "\n",
       "    .dataframe tbody tr th {\n",
       "        vertical-align: top;\n",
       "    }\n",
       "\n",
       "    .dataframe thead th {\n",
       "        text-align: right;\n",
       "    }\n",
       "</style>\n",
       "<table border=\"1\" class=\"dataframe\">\n",
       "  <thead>\n",
       "    <tr style=\"text-align: right;\">\n",
       "      <th></th>\n",
       "      <th>game_size</th>\n",
       "      <th>party_size</th>\n",
       "      <th>player_assists</th>\n",
       "      <th>player_dbno</th>\n",
       "      <th>player_dist_ride</th>\n",
       "      <th>player_dist_walk</th>\n",
       "      <th>player_dmg</th>\n",
       "      <th>player_kills</th>\n",
       "      <th>player_name</th>\n",
       "      <th>player_survive_time</th>\n",
       "      <th>const</th>\n",
       "    </tr>\n",
       "  </thead>\n",
       "  <tbody>\n",
       "    <tr>\n",
       "      <th>0</th>\n",
       "      <td>37</td>\n",
       "      <td>2</td>\n",
       "      <td>0</td>\n",
       "      <td>1</td>\n",
       "      <td>2870.72400</td>\n",
       "      <td>1784.847780</td>\n",
       "      <td>117</td>\n",
       "      <td>1</td>\n",
       "      <td>SnuffIes</td>\n",
       "      <td>18.44</td>\n",
       "      <td>1.0</td>\n",
       "    </tr>\n",
       "    <tr>\n",
       "      <th>1</th>\n",
       "      <td>37</td>\n",
       "      <td>2</td>\n",
       "      <td>0</td>\n",
       "      <td>1</td>\n",
       "      <td>2938.40723</td>\n",
       "      <td>1756.079710</td>\n",
       "      <td>127</td>\n",
       "      <td>1</td>\n",
       "      <td>Ozon3r</td>\n",
       "      <td>18.44</td>\n",
       "      <td>1.0</td>\n",
       "    </tr>\n",
       "    <tr>\n",
       "      <th>2</th>\n",
       "      <td>37</td>\n",
       "      <td>2</td>\n",
       "      <td>0</td>\n",
       "      <td>0</td>\n",
       "      <td>0.00000</td>\n",
       "      <td>224.157562</td>\n",
       "      <td>67</td>\n",
       "      <td>0</td>\n",
       "      <td>bovize</td>\n",
       "      <td>3.93</td>\n",
       "      <td>1.0</td>\n",
       "    </tr>\n",
       "    <tr>\n",
       "      <th>3</th>\n",
       "      <td>37</td>\n",
       "      <td>2</td>\n",
       "      <td>0</td>\n",
       "      <td>0</td>\n",
       "      <td>0.00000</td>\n",
       "      <td>92.935150</td>\n",
       "      <td>0</td>\n",
       "      <td>0</td>\n",
       "      <td>sbahn87</td>\n",
       "      <td>3.29</td>\n",
       "      <td>1.0</td>\n",
       "    </tr>\n",
       "    <tr>\n",
       "      <th>4</th>\n",
       "      <td>37</td>\n",
       "      <td>2</td>\n",
       "      <td>0</td>\n",
       "      <td>0</td>\n",
       "      <td>2619.07739</td>\n",
       "      <td>2510.447000</td>\n",
       "      <td>175</td>\n",
       "      <td>2</td>\n",
       "      <td>GeminiZZZ</td>\n",
       "      <td>25.62</td>\n",
       "      <td>1.0</td>\n",
       "    </tr>\n",
       "  </tbody>\n",
       "</table>\n",
       "</div>"
      ],
      "text/plain": [
       "   game_size  party_size  player_assists  player_dbno  player_dist_ride  \\\n",
       "0         37           2               0            1        2870.72400   \n",
       "1         37           2               0            1        2938.40723   \n",
       "2         37           2               0            0           0.00000   \n",
       "3         37           2               0            0           0.00000   \n",
       "4         37           2               0            0        2619.07739   \n",
       "\n",
       "   player_dist_walk  player_dmg  player_kills player_name  \\\n",
       "0       1784.847780         117             1    SnuffIes   \n",
       "1       1756.079710         127             1      Ozon3r   \n",
       "2        224.157562          67             0      bovize   \n",
       "3         92.935150           0             0     sbahn87   \n",
       "4       2510.447000         175             2   GeminiZZZ   \n",
       "\n",
       "   player_survive_time  const  \n",
       "0                18.44    1.0  \n",
       "1                18.44    1.0  \n",
       "2                 3.93    1.0  \n",
       "3                 3.29    1.0  \n",
       "4                25.62    1.0  "
      ]
     },
     "execution_count": 169,
     "metadata": {},
     "output_type": "execute_result"
    }
   ],
   "source": [
    "survival_data.head()"
   ]
  },
  {
   "cell_type": "markdown",
   "metadata": {},
   "source": [
    "### Hazard Ratio using Binary Logisitic Model"
   ]
  },
  {
   "cell_type": "code",
   "execution_count": 171,
   "metadata": {},
   "outputs": [
    {
     "name": "stdout",
     "output_type": "stream",
     "text": [
      "Warning: Maximum number of iterations has been exceeded.\n",
      "         Current function value: 0.299516\n",
      "         Iterations: 35\n",
      "         Function evaluations: 47\n",
      "         Gradient evaluations: 40\n"
     ]
    },
    {
     "data": {
      "text/html": [
       "<table class=\"simpletable\">\n",
       "<caption>Logit Regression Results</caption>\n",
       "<tr>\n",
       "  <th>Dep. Variable:</th>      <td>player_dbno</td>   <th>  No. Observations:  </th>   <td>2266203</td>  \n",
       "</tr>\n",
       "<tr>\n",
       "  <th>Model:</th>                 <td>Logit</td>      <th>  Df Residuals:      </th>   <td>2266195</td>  \n",
       "</tr>\n",
       "<tr>\n",
       "  <th>Method:</th>                 <td>MLE</td>       <th>  Df Model:          </th>   <td>     7</td>   \n",
       "</tr>\n",
       "<tr>\n",
       "  <th>Date:</th>            <td>Wed, 02 Oct 2019</td> <th>  Pseudo R-squ.:     </th>   <td>0.4701</td>   \n",
       "</tr>\n",
       "<tr>\n",
       "  <th>Time:</th>                <td>14:03:18</td>     <th>  Log-Likelihood:    </th> <td>-6.7876e+05</td>\n",
       "</tr>\n",
       "<tr>\n",
       "  <th>converged:</th>             <td>False</td>      <th>  LL-Null:           </th> <td>-1.2810e+06</td>\n",
       "</tr>\n",
       "<tr>\n",
       "  <th>Covariance Type:</th>     <td>nonrobust</td>    <th>  LLR p-value:       </th>   <td> 0.000</td>   \n",
       "</tr>\n",
       "</table>\n",
       "<table class=\"simpletable\">\n",
       "<tr>\n",
       "           <td></td>              <th>coef</th>     <th>std err</th>      <th>z</th>      <th>P>|z|</th>  <th>[0.025</th>    <th>0.975]</th>  \n",
       "</tr>\n",
       "<tr>\n",
       "  <th>game_size</th>           <td>   -0.1329</td> <td>    0.001</td> <td> -205.704</td> <td> 0.000</td> <td>   -0.134</td> <td>   -0.132</td>\n",
       "</tr>\n",
       "<tr>\n",
       "  <th>party_size</th>          <td>   -1.0165</td> <td>    0.007</td> <td> -140.794</td> <td> 0.000</td> <td>   -1.031</td> <td>   -1.002</td>\n",
       "</tr>\n",
       "<tr>\n",
       "  <th>player_assists</th>      <td>         0</td> <td>  202.760</td> <td>        0</td> <td> 1.000</td> <td> -397.403</td> <td>  397.403</td>\n",
       "</tr>\n",
       "<tr>\n",
       "  <th>player_dist_ride</th>    <td> 3.736e-05</td> <td> 2.41e-06</td> <td>   15.475</td> <td> 0.000</td> <td> 3.26e-05</td> <td> 4.21e-05</td>\n",
       "</tr>\n",
       "<tr>\n",
       "  <th>player_dist_walk</th>    <td> 3.909e-05</td> <td> 4.62e-06</td> <td>    8.460</td> <td> 0.000</td> <td>    3e-05</td> <td> 4.81e-05</td>\n",
       "</tr>\n",
       "<tr>\n",
       "  <th>player_dmg</th>          <td>    0.0222</td> <td> 4.49e-05</td> <td>  494.959</td> <td> 0.000</td> <td>    0.022</td> <td>    0.022</td>\n",
       "</tr>\n",
       "<tr>\n",
       "  <th>player_kills</th>        <td>    1.9356</td> <td>    0.005</td> <td>  416.377</td> <td> 0.000</td> <td>    1.927</td> <td>    1.945</td>\n",
       "</tr>\n",
       "<tr>\n",
       "  <th>player_survive_time</th> <td>   -0.0518</td> <td>    0.001</td> <td>  -76.497</td> <td> 0.000</td> <td>   -0.053</td> <td>   -0.050</td>\n",
       "</tr>\n",
       "<tr>\n",
       "  <th>const</th>               <td>    5.0359</td> <td>    0.045</td> <td>  112.270</td> <td> 0.000</td> <td>    4.948</td> <td>    5.124</td>\n",
       "</tr>\n",
       "</table>"
      ],
      "text/plain": [
       "<class 'statsmodels.iolib.summary.Summary'>\n",
       "\"\"\"\n",
       "                           Logit Regression Results                           \n",
       "==============================================================================\n",
       "Dep. Variable:            player_dbno   No. Observations:              2266203\n",
       "Model:                          Logit   Df Residuals:                  2266195\n",
       "Method:                           MLE   Df Model:                            7\n",
       "Date:                Wed, 02 Oct 2019   Pseudo R-squ.:                  0.4701\n",
       "Time:                        14:03:18   Log-Likelihood:            -6.7876e+05\n",
       "converged:                      False   LL-Null:                   -1.2810e+06\n",
       "Covariance Type:            nonrobust   LLR p-value:                     0.000\n",
       "=======================================================================================\n",
       "                          coef    std err          z      P>|z|      [0.025      0.975]\n",
       "---------------------------------------------------------------------------------------\n",
       "game_size              -0.1329      0.001   -205.704      0.000      -0.134      -0.132\n",
       "party_size             -1.0165      0.007   -140.794      0.000      -1.031      -1.002\n",
       "player_assists               0    202.760          0      1.000    -397.403     397.403\n",
       "player_dist_ride     3.736e-05   2.41e-06     15.475      0.000    3.26e-05    4.21e-05\n",
       "player_dist_walk     3.909e-05   4.62e-06      8.460      0.000       3e-05    4.81e-05\n",
       "player_dmg              0.0222   4.49e-05    494.959      0.000       0.022       0.022\n",
       "player_kills            1.9356      0.005    416.377      0.000       1.927       1.945\n",
       "player_survive_time    -0.0518      0.001    -76.497      0.000      -0.053      -0.050\n",
       "const                   5.0359      0.045    112.270      0.000       4.948       5.124\n",
       "=======================================================================================\n",
       "\"\"\""
      ]
     },
     "execution_count": 171,
     "metadata": {},
     "output_type": "execute_result"
    }
   ],
   "source": [
    "x = survival_data.drop(['player_dbno','player_name'],axis=1)\n",
    "y = survival_data['player_dbno']\n",
    "#y=np.ravel(y)\n",
    "logreg = st.Logit(y,x)\n",
    "scoremodel=logreg.fit(method = 'bfgs')\n",
    "scoremodel.summary()"
   ]
  },
  {
   "cell_type": "markdown",
   "metadata": {},
   "source": [
    "All the factors except player assists are significant in defining player_dbno."
   ]
  },
  {
   "cell_type": "code",
   "execution_count": 174,
   "metadata": {},
   "outputs": [
    {
     "data": {
      "text/plain": [
       "game_size                0.875582\n",
       "party_size               0.361844\n",
       "player_assists           1.000000\n",
       "player_dist_ride         1.000037\n",
       "player_dist_walk         1.000039\n",
       "player_dmg               1.022484\n",
       "player_kills             6.928322\n",
       "player_survive_time      0.949547\n",
       "const                  153.833334\n",
       "dtype: float64"
      ]
     },
     "execution_count": 174,
     "metadata": {},
     "output_type": "execute_result"
    }
   ],
   "source": [
    "# Hazard Ratio\n",
    "np.exp(scoremodel.params)"
   ]
  },
  {
   "cell_type": "markdown",
   "metadata": {},
   "source": [
    "##### Hazard of getting kiled increases with the increase in player_dist_ride/walk\n",
    "##### Hazard of getting killed increases with the increase in player_dmg\n",
    "##### Hazard of getting killed increases with the increase in player kills\n",
    "##### Hazard of getting killed decreases with the increasing in group size\n",
    "##### Hazard of getting killed decreases with the increasing in game size"
   ]
  },
  {
   "cell_type": "markdown",
   "metadata": {},
   "source": [
    "### Cox Proportional Hazard Model (Semi-Parametric)\n",
    "Survival methods can be extended to assess several risk factors simultaneously siilar to multiple linear and logisitic models. one of the popular survival analysis is cox-proportional hazard analysis. The measure of effect is hazard rate, that is the probability of failure provided the participant has survived until time t.\n",
    "Harzard ratio is analogous to an odd ratio in the setting of multiple logistic regression analysis. it is nothing but the risk of the event of the group in the numerator to the risk of the event of the group in the denominator. it is given by :\n",
    "![eq3](https://user-images.githubusercontent.com/54467567/66076095-a7e59300-e522-11e9-8138-795678df1c1c.PNG)\n",
    "\n",
    "One such method is Cox Proportional Hazard Model. It has 3 important assumptions such as \n",
    "1. Independence of survival times between distinct individual in the sample\n",
    "2. a multiplicative relationship between the predictors and the harzard\n",
    "3. A constant hazard ratio over time\n",
    "\n",
    "the cox proportional hazard ratio is given by : \n",
    "![eq4](https://user-images.githubusercontent.com/54467567/66076096-a7e59300-e522-11e9-87e4-3dc7c3caa3ca.PNG)"
   ]
  },
  {
   "cell_type": "code",
   "execution_count": 185,
   "metadata": {},
   "outputs": [
    {
     "name": "stdout",
     "output_type": "stream",
     "text": [
      "<lifelines.CoxPHFitter: fitted with 2.2662e+06 total observations, 1.69358e+06 right-censored observations>\n",
      "      duration col = 'player_survive_time'\n",
      "         event col = 'player_dbno'\n",
      "number of observations = 2266203.0\n",
      "number of events observed = 572619.0\n",
      "partial log-likelihood = -7254535.14\n",
      "  time fit was run = 2019-10-02 19:16:25 UTC\n",
      "\n",
      "---\n",
      "                  coef exp(coef)  se(coef)  coef lower 95%  coef upper 95% exp(coef) lower 95% exp(coef) upper 95%\n",
      "party_size        0.21      1.23      0.00            0.21            0.21                1.23                1.23\n",
      "player_dist_ride -0.00      1.00      0.00           -0.00           -0.00                1.00                1.00\n",
      "player_dist_walk -0.00      1.00      0.00           -0.00           -0.00                1.00                1.00\n",
      "player_dmg        0.01      1.01      0.00            0.01            0.01                1.01                1.01\n",
      "player_kills      0.58      1.79      0.00            0.58            0.59                1.79                1.80\n",
      "\n",
      "                       z      p  -log2(p)\n",
      "party_size        156.93 <0.005       inf\n",
      "player_dist_ride -226.76 <0.005       inf\n",
      "player_dist_walk -614.56 <0.005       inf\n",
      "player_dmg        337.70 <0.005       inf\n",
      "player_kills      247.16 <0.005       inf\n",
      "---\n",
      "Concordance = 0.90\n",
      "Log-likelihood ratio test = 944331.27 on 5 df, -log2(p)=inf\n"
     ]
    }
   ],
   "source": [
    "#CoxPHFitter takes dataframe that includes time and event variables\n",
    "#CoxPH model does't estimate Beta for constant so remove constant\n",
    "survival_data = survival_data.dropna()\n",
    "survivalCPH=survival_data.drop(columns=['const','player_name'])\n",
    "survivalCPH=survivalCPH.drop(columns=['player_assists','game_size'])\n",
    "#Create dummy variables\n",
    "#survivalCPH = pd.get_dummies(survivalCPH,columns=['Zone'],prefix='::',drop_first=True)\n",
    "cph=CoxPHFitter()\n",
    "#fit the model\n",
    "cph.fit(survivalCPH,'player_survive_time',event_col='player_dbno')\n",
    "#Summary\n",
    "cph.print_summary()"
   ]
  },
  {
   "cell_type": "markdown",
   "metadata": {},
   "source": [
    "###### From the Cox Proportional Hazard Model it is evident that, hazard of getting killed is positively affected by party size, player_dmg & player_kills where as it is negatively affected by player_dist_ride/walk. The concordance pair which means higher probability of hazard is termed as 1, such pairs are 90% in our dataset\n",
    "\n",
    "#### Conclusion :\n",
    "1. Making the character walk or run doesn't really has any effect of its survival\n",
    "2. Number of players/enemies kill could drastically increase survival rate\n",
    "3. Increase the number of players in the team could increase the survival rate as compared to solo/duo"
   ]
  }
 ],
 "metadata": {
  "kernelspec": {
   "display_name": "Python 3",
   "language": "python",
   "name": "python3"
  },
  "language_info": {
   "codemirror_mode": {
    "name": "ipython",
    "version": 3
   },
   "file_extension": ".py",
   "mimetype": "text/x-python",
   "name": "python",
   "nbconvert_exporter": "python",
   "pygments_lexer": "ipython3",
   "version": "3.6.8"
  }
 },
 "nbformat": 4,
 "nbformat_minor": 2
}
